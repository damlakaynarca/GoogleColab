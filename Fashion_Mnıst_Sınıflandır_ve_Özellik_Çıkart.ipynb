{
  "nbformat": 4,
  "nbformat_minor": 0,
  "metadata": {
    "colab": {
      "provenance": [],
      "authorship_tag": "ABX9TyNxUw3eUIjitcqKl/1g+1/l",
      "include_colab_link": true
    },
    "kernelspec": {
      "name": "python3",
      "display_name": "Python 3"
    },
    "language_info": {
      "name": "python"
    }
  },
  "cells": [
    {
      "cell_type": "markdown",
      "metadata": {
        "id": "view-in-github",
        "colab_type": "text"
      },
      "source": [
        "<a href=\"https://colab.research.google.com/github/damlakaynarca/GoogleColab/blob/main/Fashion_Mn%C4%B1st_S%C4%B1n%C4%B1fland%C4%B1r_ve_%C3%96zellik_%C3%87%C4%B1kart.ipynb\" target=\"_parent\"><img src=\"https://colab.research.google.com/assets/colab-badge.svg\" alt=\"Open In Colab\"/></a>"
      ]
    },
    {
      "cell_type": "code",
      "execution_count": 1,
      "metadata": {
        "colab": {
          "base_uri": "https://localhost:8080/"
        },
        "id": "Kxy18NLNT9sm",
        "outputId": "ea6cc6b8-b6af-4156-be8b-8e976876e9b4"
      },
      "outputs": [
        {
          "output_type": "stream",
          "name": "stdout",
          "text": [
            "Downloading data from https://storage.googleapis.com/tensorflow/tf-keras-datasets/train-labels-idx1-ubyte.gz\n",
            "29515/29515 [==============================] - 0s 0us/step\n",
            "Downloading data from https://storage.googleapis.com/tensorflow/tf-keras-datasets/train-images-idx3-ubyte.gz\n",
            "26421880/26421880 [==============================] - 1s 0us/step\n",
            "Downloading data from https://storage.googleapis.com/tensorflow/tf-keras-datasets/t10k-labels-idx1-ubyte.gz\n",
            "5148/5148 [==============================] - 0s 0us/step\n",
            "Downloading data from https://storage.googleapis.com/tensorflow/tf-keras-datasets/t10k-images-idx3-ubyte.gz\n",
            "4422102/4422102 [==============================] - 0s 0us/step\n"
          ]
        },
        {
          "output_type": "stream",
          "name": "stderr",
          "text": [
            "/usr/local/lib/python3.10/dist-packages/sklearn/linear_model/_logistic.py:458: ConvergenceWarning: lbfgs failed to converge (status=1):\n",
            "STOP: TOTAL NO. of ITERATIONS REACHED LIMIT.\n",
            "\n",
            "Increase the number of iterations (max_iter) or scale the data as shown in:\n",
            "    https://scikit-learn.org/stable/modules/preprocessing.html\n",
            "Please also refer to the documentation for alternative solver options:\n",
            "    https://scikit-learn.org/stable/modules/linear_model.html#logistic-regression\n",
            "  n_iter_i = _check_optimize_result(\n"
          ]
        },
        {
          "output_type": "stream",
          "name": "stdout",
          "text": [
            "SVM Doğruluk (PCA): 0.8903333333333333\n",
            "KNN Doğruluk (PCA): 0.8623333333333333\n",
            "Naive Bayes Doğruluk (PCA): 0.6831666666666667\n",
            "Decision Tree Doğruluk (PCA): 0.7703333333333333\n",
            "Lineer Regresyon Doğruluk (PCA): 0.8473333333333334\n",
            "Linear Discriminant Analysis Doğruluk: 0.8318333333333333\n"
          ]
        }
      ],
      "source": [
        "import numpy as np\n",
        "from sklearn.model_selection import train_test_split\n",
        "from sklearn.decomposition import PCA\n",
        "from sklearn.preprocessing import StandardScaler\n",
        "from sklearn.svm import SVC\n",
        "from sklearn.neighbors import KNeighborsClassifier\n",
        "from sklearn.naive_bayes import GaussianNB\n",
        "from sklearn.tree import DecisionTreeClassifier\n",
        "from sklearn.linear_model import LogisticRegression\n",
        "from sklearn.discriminant_analysis import LinearDiscriminantAnalysis\n",
        "import tensorflow as tf\n",
        "\n",
        "# Fashion MNIST veri setini yükle\n",
        "fashion_mnist = tf.keras.datasets.fashion_mnist\n",
        "(x_train, y_train), (x_test, y_test) = fashion_mnist.load_data()\n",
        "x_train, x_test = x_train / 255.0, x_test / 255.0  # Verileri 0-1 aralığında normalize et\n",
        "\n",
        "# Verileri düzleştir\n",
        "x_train_flat = x_train.reshape(x_train.shape[0], -1)\n",
        "x_test_flat = x_test.reshape(x_test.shape[0], -1)\n",
        "\n",
        "# Verileri ölçeklendir\n",
        "scaler = StandardScaler()\n",
        "x_train_scaled = scaler.fit_transform(x_train_flat)\n",
        "x_test_scaled = scaler.transform(x_test_flat)\n",
        "\n",
        "# Temel Bileşen Analizi (PCA) uygula\n",
        "pca = PCA(n_components=100)\n",
        "x_train_pca = pca.fit_transform(x_train_scaled)\n",
        "x_test_pca = pca.transform(x_test_scaled)\n",
        "\n",
        "# Lineer Discriminant Analysis (LDA) uygula\n",
        "# Lineer Discriminant Analysis (LDA) uygula\n",
        "lda = LinearDiscriminantAnalysis(n_components=9)\n",
        "x_train_lda = lda.fit_transform(x_train_scaled, y_train)\n",
        "x_test_lda = lda.transform(x_test_scaled)\n",
        "\n",
        "\n",
        "# Eğitim ve test verilerini ayrı ayrı al (PCA için)\n",
        "x_train_pca, x_val_pca, y_train_pca, y_val_pca = train_test_split(x_train_pca, y_train, test_size=0.1, random_state=42)\n",
        "\n",
        "# Eğitim ve test verilerini ayrı ayrı al (LDA için)\n",
        "x_train_lda, x_val_lda, y_train_lda, y_val_lda = train_test_split(x_train_lda, y_train, test_size=0.1, random_state=42)\n",
        "\n",
        "# SVM modelini oluştur ve eğit (PCA)\n",
        "svm_model_pca = SVC()\n",
        "svm_model_pca.fit(x_train_pca, y_train_pca)\n",
        "\n",
        "# KNN modelini oluştur ve eğit (PCA)\n",
        "knn_model_pca = KNeighborsClassifier()\n",
        "knn_model_pca.fit(x_train_pca, y_train_pca)\n",
        "\n",
        "# Naive Bayes modelini oluştur ve eğit (PCA)\n",
        "nb_model_pca = GaussianNB()\n",
        "nb_model_pca.fit(x_train_pca, y_train_pca)\n",
        "\n",
        "# Karar Ağacı modelini oluştur ve eğit (PCA)\n",
        "dt_model_pca = DecisionTreeClassifier()\n",
        "dt_model_pca.fit(x_train_pca, y_train_pca)\n",
        "\n",
        "# Lineer Regresyon modelini oluştur ve eğit (PCA)\n",
        "lr_model_pca = LogisticRegression(max_iter=1000)\n",
        "lr_model_pca.fit(x_train_pca, y_train_pca)\n",
        "\n",
        "# LDA modelini oluştur ve eğit (LDA)\n",
        "lda_model = LinearDiscriminantAnalysis()\n",
        "lda_model.fit(x_train_lda, y_train_lda)\n",
        "\n",
        "# Doğruluk hesapla (PCA için)\n",
        "svm_accuracy_pca = svm_model_pca.score(x_val_pca, y_val_pca)\n",
        "knn_accuracy_pca = knn_model_pca.score(x_val_pca, y_val_pca)\n",
        "nb_accuracy_pca = nb_model_pca.score(x_val_pca, y_val_pca)\n",
        "dt_accuracy_pca = dt_model_pca.score(x_val_pca, y_val_pca)\n",
        "lr_accuracy_pca = lr_model_pca.score(x_val_pca, y_val_pca)\n",
        "\n",
        "# Doğruluk hesapla (LDA için)\n",
        "lda_accuracy = lda_model.score(x_val_lda, y_val_lda)\n",
        "\n",
        "# Sonuçları yazdır\n",
        "print(\"SVM Doğruluk (PCA):\", svm_accuracy_pca)\n",
        "print(\"KNN Doğruluk (PCA):\", knn_accuracy_pca)\n",
        "print(\"Naive Bayes Doğruluk (PCA):\", nb_accuracy_pca)\n",
        "print(\"Decision Tree Doğruluk (PCA):\", dt_accuracy_pca)\n",
        "print(\"Lineer Regresyon Doğruluk (PCA):\", lr_accuracy_pca)\n",
        "print(\"Linear Discriminant Analysis Doğruluk:\", lda_accuracy)"
      ]
    }
  ]
}