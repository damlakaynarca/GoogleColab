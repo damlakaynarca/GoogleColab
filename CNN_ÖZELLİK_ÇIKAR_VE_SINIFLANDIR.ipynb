{
  "cells": [
    {
      "cell_type": "markdown",
      "metadata": {
        "id": "view-in-github",
        "colab_type": "text"
      },
      "source": [
        "<a href=\"https://colab.research.google.com/github/damlakaynarca/GoogleColab/blob/main/CNN_%C3%96ZELL%C4%B0K_%C3%87IKAR_VE_SINIFLANDIR.ipynb\" target=\"_parent\"><img src=\"https://colab.research.google.com/assets/colab-badge.svg\" alt=\"Open In Colab\"/></a>"
      ]
    },
    {
      "cell_type": "code",
      "execution_count": null,
      "metadata": {
        "colab": {
          "background_save": true,
          "base_uri": "https://localhost:8080/"
        },
        "id": "mrS33sCkaTDi",
        "outputId": "3ce36f1a-e270-4982-a1af-228bacad5d5d"
      },
      "outputs": [
        {
          "name": "stdout",
          "output_type": "stream",
          "text": [
            "Downloading data from https://storage.googleapis.com/tensorflow/tf-keras-datasets/mnist.npz\n",
            "11490434/11490434 [==============================] - 0s 0us/step\n",
            "1875/1875 [==============================] - 17s 9ms/step\n",
            "313/313 [==============================] - 2s 7ms/step\n",
            "Support Vector Machine (SVM) accuracy: 0.988\n",
            "K-Nearest Neighbors (KNN) accuracy: 0.9747\n",
            "Naive Bayes accuracy: 0.9031\n",
            "Linear Discriminant Analysis (LDA) accuracy: 0.9794\n",
            "Decision Tree accuracy: 0.8799\n",
            "Linear Regression (Logistic Regression) accuracy: 0.9798\n"
          ]
        }
      ],
      "source": [
        "import tensorflow as tf\n",
        "from sklearn.svm import SVC\n",
        "from sklearn.neighbors import KNeighborsClassifier\n",
        "from sklearn.naive_bayes import GaussianNB\n",
        "from sklearn.discriminant_analysis import LinearDiscriminantAnalysis\n",
        "from sklearn.tree import DecisionTreeClassifier\n",
        "from sklearn.linear_model import LogisticRegression\n",
        "# MNIST veri setini yükle\n",
        "mnist = tf.keras.datasets.mnist\n",
        "(x_train, y_train), (x_test, y_test) = mnist.load_data()\n",
        "x_train, x_test = x_train / 255.0, x_test / 255.0  # Verileri 0-1 aralığında normalize et\n",
        "\n",
        "# Modeli oluştur\n",
        "model = tf.keras.models.Sequential([\n",
        "    tf.keras.layers.Reshape((28, 28, 1), input_shape=(28, 28)),\n",
        "    tf.keras.layers.Conv2D(32, (3, 3), activation='relu'),\n",
        "    tf.keras.layers.MaxPooling2D((2, 2)),\n",
        "    tf.keras.layers.Conv2D(64, (3, 3), activation='relu'),\n",
        "    tf.keras.layers.MaxPooling2D((2, 2)),\n",
        "    tf.keras.layers.Flatten()\n",
        "])\n",
        "\n",
        "# Modeli özellik çıkarma için derle\n",
        "model.compile(optimizer='adam',\n",
        "              loss='sparse_categorical_crossentropy',\n",
        "              metrics=['accuracy'])\n",
        "\n",
        "# Modelden özelliklerin çıkarılması\n",
        "features_train = model.predict(x_train)\n",
        "features_test = model.predict(x_test)\n",
        "# Support Vector Machine (SVM)\n",
        "svm_model = SVC()\n",
        "svm_model.fit(features_train, y_train)\n",
        "\n",
        "# K-Nearest Neighbors (KNN)\n",
        "knn_model = KNeighborsClassifier()\n",
        "knn_model.fit(features_train, y_train)\n",
        "\n",
        "# Naive Bayes\n",
        "nb_model = GaussianNB()\n",
        "nb_model.fit(features_train, y_train)\n",
        "\n",
        "# Linear Discriminant Analysis (LDA)\n",
        "lda_model = LinearDiscriminantAnalysis()\n",
        "lda_model.fit(features_train, y_train)\n",
        "\n",
        "# Decision Tree\n",
        "dt_model = DecisionTreeClassifier()\n",
        "dt_model.fit(features_train, y_train)\n",
        "\n",
        "# Linear Regression (Logistic Regression)\n",
        "lr_model = LogisticRegression(max_iter=10000)\n",
        "lr_model.fit(features_train, y_train)\n",
        "# Sınıflandırıcıların performansını değerlendirme\n",
        "svm_accuracy = svm_model.score(features_test, y_test)\n",
        "knn_accuracy = knn_model.score(features_test, y_test)\n",
        "nb_accuracy = nb_model.score(features_test, y_test)\n",
        "lda_accuracy = lda_model.score(features_test, y_test)\n",
        "dt_accuracy = dt_model.score(features_test, y_test)\n",
        "lr_accuracy = lr_model.score(features_test, y_test)\n",
        "\n",
        "# Sonuçları yazdırma\n",
        "print(\"Support Vector Machine (SVM) accuracy:\", svm_accuracy)\n",
        "print(\"K-Nearest Neighbors (KNN) accuracy:\", knn_accuracy)\n",
        "print(\"Naive Bayes accuracy:\", nb_accuracy)\n",
        "print(\"Linear Discriminant Analysis (LDA) accuracy:\", lda_accuracy)\n",
        "print(\"Decision Tree accuracy:\", dt_accuracy)\n",
        "print(\"Linear Regression (Logistic Regression) accuracy:\", lr_accuracy)\n"
      ]
    }
  ],
  "metadata": {
    "colab": {
      "provenance": [],
      "authorship_tag": "ABX9TyOlovDn0bhY4BlAVc9Q5r4/",
      "include_colab_link": true
    },
    "kernelspec": {
      "display_name": "Python 3",
      "name": "python3"
    },
    "language_info": {
      "name": "python"
    }
  },
  "nbformat": 4,
  "nbformat_minor": 0
}